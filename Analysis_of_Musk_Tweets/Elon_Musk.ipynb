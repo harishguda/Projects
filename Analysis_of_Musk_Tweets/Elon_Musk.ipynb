{
 "cells": [
  {
   "cell_type": "code",
   "execution_count": 1,
   "metadata": {
    "collapsed": true
   },
   "outputs": [],
   "source": [
    "import pandas as pd"
   ]
  },
  {
   "cell_type": "code",
   "execution_count": 2,
   "metadata": {
    "collapsed": true
   },
   "outputs": [],
   "source": [
    "tweets = pd.read_csv(\"/Users/harish/Desktop/GitHub/Analysis_of_Musk_Tweets/data_elonmusk.csv\",encoding='latin1')"
   ]
  },
  {
   "cell_type": "code",
   "execution_count": 3,
   "metadata": {},
   "outputs": [
    {
     "data": {
      "text/html": [
       "<div>\n",
       "<style>\n",
       "    .dataframe thead tr:only-child th {\n",
       "        text-align: right;\n",
       "    }\n",
       "\n",
       "    .dataframe thead th {\n",
       "        text-align: left;\n",
       "    }\n",
       "\n",
       "    .dataframe tbody tr th {\n",
       "        vertical-align: top;\n",
       "    }\n",
       "</style>\n",
       "<table border=\"1\" class=\"dataframe\">\n",
       "  <thead>\n",
       "    <tr style=\"text-align: right;\">\n",
       "      <th></th>\n",
       "      <th>row ID</th>\n",
       "      <th>Tweet</th>\n",
       "      <th>Time</th>\n",
       "      <th>Retweet from</th>\n",
       "      <th>User</th>\n",
       "    </tr>\n",
       "  </thead>\n",
       "  <tbody>\n",
       "    <tr>\n",
       "      <th>0</th>\n",
       "      <td>Row0</td>\n",
       "      <td>@MeltingIce Assuming max acceleration of 2 to ...</td>\n",
       "      <td>2017-09-29 17:39:19</td>\n",
       "      <td>NaN</td>\n",
       "      <td>elonmusk</td>\n",
       "    </tr>\n",
       "    <tr>\n",
       "      <th>1</th>\n",
       "      <td>Row1</td>\n",
       "      <td>RT @SpaceX: BFR is capable of transporting sat...</td>\n",
       "      <td>2017-09-29 10:44:54</td>\n",
       "      <td>SpaceX</td>\n",
       "      <td>elonmusk</td>\n",
       "    </tr>\n",
       "    <tr>\n",
       "      <th>2</th>\n",
       "      <td>Row2</td>\n",
       "      <td>@bigajm Yup :)</td>\n",
       "      <td>2017-09-29 10:39:57</td>\n",
       "      <td>NaN</td>\n",
       "      <td>elonmusk</td>\n",
       "    </tr>\n",
       "    <tr>\n",
       "      <th>3</th>\n",
       "      <td>Row3</td>\n",
       "      <td>Part 2 https://t.co/8Fvu57muhM</td>\n",
       "      <td>2017-09-29 09:56:12</td>\n",
       "      <td>NaN</td>\n",
       "      <td>elonmusk</td>\n",
       "    </tr>\n",
       "    <tr>\n",
       "      <th>4</th>\n",
       "      <td>Row4</td>\n",
       "      <td>Fly to most places on Earth in under 30 mins a...</td>\n",
       "      <td>2017-09-29 09:19:21</td>\n",
       "      <td>NaN</td>\n",
       "      <td>elonmusk</td>\n",
       "    </tr>\n",
       "  </tbody>\n",
       "</table>\n",
       "</div>"
      ],
      "text/plain": [
       "  row ID                                              Tweet  \\\n",
       "0   Row0  @MeltingIce Assuming max acceleration of 2 to ...   \n",
       "1   Row1  RT @SpaceX: BFR is capable of transporting sat...   \n",
       "2   Row2                                     @bigajm Yup :)   \n",
       "3   Row3                     Part 2 https://t.co/8Fvu57muhM   \n",
       "4   Row4  Fly to most places on Earth in under 30 mins a...   \n",
       "\n",
       "                  Time Retweet from      User  \n",
       "0  2017-09-29 17:39:19          NaN  elonmusk  \n",
       "1  2017-09-29 10:44:54       SpaceX  elonmusk  \n",
       "2  2017-09-29 10:39:57          NaN  elonmusk  \n",
       "3  2017-09-29 09:56:12          NaN  elonmusk  \n",
       "4  2017-09-29 09:19:21          NaN  elonmusk  "
      ]
     },
     "execution_count": 3,
     "metadata": {},
     "output_type": "execute_result"
    }
   ],
   "source": [
    "tweets.head()"
   ]
  },
  {
   "cell_type": "code",
   "execution_count": 4,
   "metadata": {
    "collapsed": true
   },
   "outputs": [],
   "source": [
    "tweets = tweets.assign(Time=pd.to_datetime(tweets.Time)).drop('row ID', axis='columns')"
   ]
  },
  {
   "cell_type": "code",
   "execution_count": 5,
   "metadata": {},
   "outputs": [
    {
     "data": {
      "text/html": [
       "<div>\n",
       "<style>\n",
       "    .dataframe thead tr:only-child th {\n",
       "        text-align: right;\n",
       "    }\n",
       "\n",
       "    .dataframe thead th {\n",
       "        text-align: left;\n",
       "    }\n",
       "\n",
       "    .dataframe tbody tr th {\n",
       "        vertical-align: top;\n",
       "    }\n",
       "</style>\n",
       "<table border=\"1\" class=\"dataframe\">\n",
       "  <thead>\n",
       "    <tr style=\"text-align: right;\">\n",
       "      <th></th>\n",
       "      <th>Tweet</th>\n",
       "      <th>Time</th>\n",
       "      <th>Retweet from</th>\n",
       "      <th>User</th>\n",
       "    </tr>\n",
       "  </thead>\n",
       "  <tbody>\n",
       "    <tr>\n",
       "      <th>0</th>\n",
       "      <td>@MeltingIce Assuming max acceleration of 2 to ...</td>\n",
       "      <td>2017-09-29 17:39:19</td>\n",
       "      <td>NaN</td>\n",
       "      <td>elonmusk</td>\n",
       "    </tr>\n",
       "    <tr>\n",
       "      <th>1</th>\n",
       "      <td>RT @SpaceX: BFR is capable of transporting sat...</td>\n",
       "      <td>2017-09-29 10:44:54</td>\n",
       "      <td>SpaceX</td>\n",
       "      <td>elonmusk</td>\n",
       "    </tr>\n",
       "    <tr>\n",
       "      <th>2</th>\n",
       "      <td>@bigajm Yup :)</td>\n",
       "      <td>2017-09-29 10:39:57</td>\n",
       "      <td>NaN</td>\n",
       "      <td>elonmusk</td>\n",
       "    </tr>\n",
       "    <tr>\n",
       "      <th>3</th>\n",
       "      <td>Part 2 https://t.co/8Fvu57muhM</td>\n",
       "      <td>2017-09-29 09:56:12</td>\n",
       "      <td>NaN</td>\n",
       "      <td>elonmusk</td>\n",
       "    </tr>\n",
       "    <tr>\n",
       "      <th>4</th>\n",
       "      <td>Fly to most places on Earth in under 30 mins a...</td>\n",
       "      <td>2017-09-29 09:19:21</td>\n",
       "      <td>NaN</td>\n",
       "      <td>elonmusk</td>\n",
       "    </tr>\n",
       "  </tbody>\n",
       "</table>\n",
       "</div>"
      ],
      "text/plain": [
       "                                               Tweet                Time  \\\n",
       "0  @MeltingIce Assuming max acceleration of 2 to ... 2017-09-29 17:39:19   \n",
       "1  RT @SpaceX: BFR is capable of transporting sat... 2017-09-29 10:44:54   \n",
       "2                                     @bigajm Yup :) 2017-09-29 10:39:57   \n",
       "3                     Part 2 https://t.co/8Fvu57muhM 2017-09-29 09:56:12   \n",
       "4  Fly to most places on Earth in under 30 mins a... 2017-09-29 09:19:21   \n",
       "\n",
       "  Retweet from      User  \n",
       "0          NaN  elonmusk  \n",
       "1       SpaceX  elonmusk  \n",
       "2          NaN  elonmusk  \n",
       "3          NaN  elonmusk  \n",
       "4          NaN  elonmusk  "
      ]
     },
     "execution_count": 5,
     "metadata": {},
     "output_type": "execute_result"
    }
   ],
   "source": [
    "tweets.head()"
   ]
  },
  {
   "cell_type": "code",
   "execution_count": 6,
   "metadata": {},
   "outputs": [
    {
     "data": {
      "image/png": "[encoded data removed]",
      "text/plain": [
       "<matplotlib.figure.Figure at 0x10ac18950>"
      ]
     },
     "metadata": {},
     "output_type": "display_data"
    }
   ],
   "source": [
    "#tweet activity over the years\n",
    "import matplotlib.pyplot as plt\n",
    "tweets['Time'].hist(label='Number of Tweets',alpha=0.7,color='red')\n",
    "plt.legend()\n",
    "plt.title(\"Tweets Over the Time\")\n",
    "plt.show()"
   ]
  },
  {
   "cell_type": "code",
   "execution_count": 7,
   "metadata": {},
   "outputs": [
    {
     "data": {
      "image/png": "[encoded data removed]",
      "text/plain": [
       "<matplotlib.figure.Figure at 0x1099b81d0>"
      ]
     },
     "metadata": {},
     "output_type": "display_data"
    }
   ],
   "source": [
    "#Let's check his retweets\n",
    "\n",
    "tweets['Retweet from'].value_counts(dropna=True)[:8].plot(kind='bar')\n",
    "plt.show()"
   ]
  },
  {
   "cell_type": "code",
   "execution_count": 8,
   "metadata": {},
   "outputs": [
    {
     "data": {
      "image/png": "[encoded data removed]",
      "text/plain": [
       "<matplotlib.figure.Figure at 0x10eca8990>"
      ]
     },
     "metadata": {},
     "output_type": "display_data"
    }
   ],
   "source": [
    "(tweets.Time\n",
    "     .dt\n",
    "     .hour\n",
    "     .value_counts()\n",
    "     .sort_index()\n",
    ").plot.bar(figsize=(10, 8), fontsize=16, color='Brown')\n",
    "plt.gca().set_title('@elonmusk tweets per hour of day', fontsize=20)\n",
    "plt.show()\n",
    "y=tweets['Tweet']\n",
    "\n",
    "#LOOKS LIKE HE IS VERY ACTIVE AROUND MID-NIGHT"
   ]
  },
  {
   "cell_type": "code",
   "execution_count": 9,
   "metadata": {
    "collapsed": true
   },
   "outputs": [],
   "source": [
    "from nltk.tokenize import word_tokenize\n",
    "from nltk.tokenize import sent_tokenize\n",
    "tokens = [word_tokenize(tweet.lower()) for tweet in y]"
   ]
  },
  {
   "cell_type": "code",
   "execution_count": 10,
   "metadata": {
    "collapsed": true
   },
   "outputs": [],
   "source": [
    "from nltk.corpus import stopwords\n",
    "no_stops = [t for t in tokens if not t in stopwords.words('english')]"
   ]
  },
  {
   "cell_type": "code",
   "execution_count": 11,
   "metadata": {},
   "outputs": [
    {
     "name": "stdout",
     "output_type": "stream",
     "text": [
      "Number of tweets in the data set: 3218\n"
     ]
    }
   ],
   "source": [
    "print \"Number of tweets in the data set: \" + str(len(tokens))"
   ]
  },
  {
   "cell_type": "code",
   "execution_count": 12,
   "metadata": {
    "collapsed": true
   },
   "outputs": [],
   "source": [
    "from gensim.corpora.dictionary import Dictionary\n",
    "from collections import Counter"
   ]
  },
  {
   "cell_type": "code",
   "execution_count": 13,
   "metadata": {
    "collapsed": true
   },
   "outputs": [],
   "source": [
    "token_words = tweets.Tweet.map(word_tokenize)"
   ]
  },
  {
   "cell_type": "code",
   "execution_count": 14,
   "metadata": {
    "collapsed": true
   },
   "outputs": [],
   "source": [
    "dictionary = Dictionary(token_words)"
   ]
  },
  {
   "cell_type": "code",
   "execution_count": 15,
   "metadata": {
    "collapsed": true
   },
   "outputs": [],
   "source": [
    "tokens = tweets.Tweet.map(word_tokenize)\n",
    "\n",
    "def musk_thoughts_on(x):\n",
    "    x_l = x.lower()\n",
    "    x_t = x.title()\n",
    "    return tweets.loc[tokens.map(lambda sent: x_l in sent or x_t in sent).values]"
   ]
  },
  {
   "cell_type": "code",
   "execution_count": 16,
   "metadata": {},
   "outputs": [
    {
     "data": {
      "text/plain": [
       "[[u'@ScottLucasNV Lithium deal is not exclusive & has many contingencies. The press on this matter is unwarranted.',\n",
       "  Timestamp('2015-09-02 23:39:18'),\n",
       "  nan,\n",
       "  u'elonmusk'],\n",
       " [u'Maybe already under control, but Tesla & SpaceX are happy to help with the 787 lithium ion batteries.',\n",
       "  Timestamp('2013-01-18 19:24:36'),\n",
       "  nan,\n",
       "  u'elonmusk']]"
      ]
     },
     "execution_count": 16,
     "metadata": {},
     "output_type": "execute_result"
    }
   ],
   "source": [
    "#Let's see Elon thoughts on specific topics or people\n",
    "musk_thoughts_on('lithium').values.tolist()"
   ]
  },
  {
   "cell_type": "code",
   "execution_count": 17,
   "metadata": {},
   "outputs": [
    {
     "data": {
      "text/plain": [
       "[[u'Worth noting that all gasoline cars are heavily subsidized via oil company tax credits & unpaid public health costs https://t.co/4li5E013Dj',\n",
       "  Timestamp('2016-02-19 10:37:53'),\n",
       "  nan,\n",
       "  u'elonmusk'],\n",
       " [u'CH4 rapidly decays back to CO2 & is absorbed by plants. What matters is adding new carbon to surface cycle from underground oil, gas & coal.',\n",
       "  Timestamp('2015-10-11 03:31:20'),\n",
       "  nan,\n",
       "  u'elonmusk'],\n",
       " [u'RT @LeilaniMunter: Dear Oil, I am breaking up with you... http://t.co/D0cxsW6yt1 --- @TeslaMotors @elonmusk @TeslaMotorsClub',\n",
       "  Timestamp('2013-07-15 16:02:26'),\n",
       "  u'LeilaniMunter',\n",
       "  u'elonmusk'],\n",
       " [u'And, since we will run out of oil anyway, why risk the future of all life on Earth simply to delay sustainable energy?',\n",
       "  Timestamp('2013-05-24 07:46:25'),\n",
       "  nan,\n",
       "  u'elonmusk']]"
      ]
     },
     "execution_count": 17,
     "metadata": {},
     "output_type": "execute_result"
    }
   ],
   "source": [
    "musk_thoughts_on('oil').values.tolist()"
   ]
  },
  {
   "cell_type": "code",
   "execution_count": 18,
   "metadata": {},
   "outputs": [
    {
     "data": {
      "text/plain": [
       "[[u\"@W4AS Good grief, I'm not working for Trump. I'm trying to provide advice that helps take things in a more positive direction.\",\n",
       "  Timestamp('2017-02-05 19:16:23'),\n",
       "  nan,\n",
       "  u'elonmusk'],\n",
       " [u'RT @Gizmodo: A brief chat with Elon Musk about climate change, Rex Tillerson, and Donald Trump https://t.co/IJo34UeDSq https://t.co/xrYj3Dq?',\n",
       "  Timestamp('2017-01-26 03:06:06'),\n",
       "  u'Gizmodo',\n",
       "  u'elonmusk'],\n",
       " [u'RT @ElectrekCo: Right-wing group led by Trump propagandist launches campaign against Elon Musk, Tesla and SpaceX https://t.co/re8hDmjonX ht?',\n",
       "  Timestamp('2016-11-22 17:39:01'),\n",
       "  u'ElectrekCo',\n",
       "  u'elonmusk'],\n",
       " [u'RT @ggreenwald: Trump Picks Top Climate Skeptic to Lead EPA Transition https://t.co/fTiN4KuKJq',\n",
       "  Timestamp('2016-11-10 02:22:18'),\n",
       "  u'ggreenwald',\n",
       "  u'elonmusk'],\n",
       " [u\"The AEI meeting wasn't secret and I was only there for a few hours to talk about Mars and sustainable energy. Nothing to do with Trump.\",\n",
       "  Timestamp('2016-03-09 20:20:50'),\n",
       "  nan,\n",
       "  u'elonmusk']]"
      ]
     },
     "execution_count": 18,
     "metadata": {},
     "output_type": "execute_result"
    }
   ],
   "source": [
    "musk_thoughts_on('Trump').values.tolist()"
   ]
  },
  {
   "cell_type": "code",
   "execution_count": 19,
   "metadata": {},
   "outputs": [
    {
     "data": {
      "text/plain": [
       "True     0.643567\n",
       "False    0.356433\n",
       "Name: Tweet, dtype: float64"
      ]
     },
     "execution_count": 19,
     "metadata": {},
     "output_type": "execute_result"
    }
   ],
   "source": [
    "# '@' is just like tagging a person. Looks like more than 60% are response tweets.\n",
    "tweets.Tweet.str.contains('@').value_counts() / len(tweets)"
   ]
  },
  {
   "cell_type": "code",
   "execution_count": 20,
   "metadata": {
    "collapsed": true
   },
   "outputs": [],
   "source": [
    "import re, string\n",
    "from nltk.stem import PorterStemmer\n",
    "clean = [i.replace('+', ' ').replace('.', ' ').replace(',', ' ').replace(':', ' ').replace('(',' ').replace(')',' ').replace('\\n',' ').replace('http',' ') for i in y]\n",
    "clean = re.sub(\"(^|\\W)\\d+($|\\W)\", \" \", str(clean)).lower()\n",
    "clean = re.sub(r'https?:\\/\\/.*\\/\\w*',' ',clean) # Remove hyperlinks\n",
    "clean = re.sub(r'['+string.punctuation+']+', ' ',clean) # Remove puncutations\n",
    "\n",
    "\n",
    "stop_words = set(stopwords.words('english'))\n",
    "tweet_text=[]\n",
    "for w in clean.split():\n",
    "    if w not in stop_words and len(w) > 2:\n",
    "        ps = PorterStemmer()\n",
    "        tweet_text.append(ps.stem(w)) # stemming words\n",
    "#print(tweet_text)\n"
   ]
  },
  {
   "cell_type": "code",
   "execution_count": 21,
   "metadata": {
    "collapsed": true
   },
   "outputs": [],
   "source": [
    "tweets_counter = Counter(tweet_text)"
   ]
  },
  {
   "cell_type": "code",
   "execution_count": 22,
   "metadata": {},
   "outputs": [
    {
     "data": {
      "text/plain": [
       "[('tesla', 386),\n",
       " ('spacex', 267),\n",
       " ('model', 243),\n",
       " ('car', 195),\n",
       " ('launch', 185),\n",
       " (u'teslamotor', 183),\n",
       " ('good', 152),\n",
       " ('like', 149),\n",
       " ('rocket', 140),\n",
       " (u'land', 136),\n",
       " ('falcon', 124),\n",
       " (u'ye', 123),\n",
       " ('first', 111),\n",
       " ('next', 103),\n",
       " ('need', 101)]"
      ]
     },
     "execution_count": 22,
     "metadata": {},
     "output_type": "execute_result"
    }
   ],
   "source": [
    "tweets_counter.most_common(15)"
   ]
  },
  {
   "cell_type": "code",
   "execution_count": null,
   "metadata": {
    "collapsed": true
   },
   "outputs": [],
   "source": []
  },
  {
   "cell_type": "code",
   "execution_count": null,
   "metadata": {
    "collapsed": true
   },
   "outputs": [],
   "source": []
  }
 ],
 "metadata": {
  "kernelspec": {
   "display_name": "Python 2",
   "language": "python",
   "name": "python2"
  },
  "language_info": {
   "codemirror_mode": {
    "name": "ipython",
    "version": 2
   },
   "file_extension": ".py",
   "mimetype": "text/x-python",
   "name": "python",
   "nbconvert_exporter": "python",
   "pygments_lexer": "ipython2",
   "version": "2.7.14"
  }
 },
 "nbformat": 4,
 "nbformat_minor": 2
}
